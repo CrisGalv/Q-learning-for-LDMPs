{
 "cells": [
  {
   "attachments": {},
   "cell_type": "markdown",
   "metadata": {},
   "source": [
    "# Frozen Lake"
   ]
  },
  {
   "attachments": {},
   "cell_type": "markdown",
   "metadata": {},
   "source": [
    "Import libraries, including FronzenLake.py which has the class with the dynamics of the environment"
   ]
  },
  {
   "cell_type": "code",
   "execution_count": 1,
   "metadata": {},
   "outputs": [
    {
     "name": "stdout",
     "output_type": "stream",
     "text": [
      "pygame 2.1.3.dev8 (SDL 2.0.22, Python 3.10.9)\n",
      "Hello from the pygame community. https://www.pygame.org/contribute.html\n"
     ]
    }
   ],
   "source": [
    "import random\n",
    "import numpy as np\n",
    "import time\n",
    "from FrozenLake import FrozenLake\n",
    "import matplotlib.pyplot as plt"
   ]
  },
  {
   "attachments": {},
   "cell_type": "markdown",
   "metadata": {},
   "source": [
    "### Useful Functions"
   ]
  },
  {
   "attachments": {},
   "cell_type": "markdown",
   "metadata": {},
   "source": [
    "Define some functions that will be usefull for representation and running episodes"
   ]
  },
  {
   "cell_type": "code",
   "execution_count": 2,
   "metadata": {},
   "outputs": [],
   "source": [
    "def action_to_symbol(action):\n",
    "    if action == 0:\n",
    "        flecha =  '→'\n",
    "    elif action == 1:\n",
    "        flecha = '↓'\n",
    "    elif action == 2:\n",
    "        flecha = '←'\n",
    "    elif action == 3:\n",
    "        flecha = '↑'\n",
    "    else:\n",
    "        flecha = ''\n",
    "\n",
    "    return flecha\n",
    "\n",
    "def actions_to_string(actions):\n",
    "    arrows = [action_to_symbol(a) for a in actions]\n",
    "    return ' '.join(arrows)"
   ]
  },
  {
   "cell_type": "code",
   "execution_count": 3,
   "metadata": {},
   "outputs": [],
   "source": [
    "def print_policy(env, policy):\n",
    "\n",
    "    print_p = \"\"\n",
    "    for state in range(0, env.Ns) :\n",
    "        if state % env.size == 0:\n",
    "            print_p += \"\\n\"\n",
    "        if state == env.goal_state:\n",
    "            print_p += ' x '\n",
    "        elif state in env.terminal_states:\n",
    "            print_p += ' o '\n",
    "        elif policy[state] == 0:\n",
    "            print_p += ' → '\n",
    "        elif policy[state] == 1:\n",
    "            print_p += ' ↓ '\n",
    "        elif policy[state] == 2:\n",
    "            print_p += ' ← '\n",
    "        else:\n",
    "            print_p += ' ↑ '\n",
    "    print(print_p)"
   ]
  },
  {
   "attachments": {},
   "cell_type": "markdown",
   "metadata": {},
   "source": [
    "Try to run the game once"
   ]
  },
  {
   "cell_type": "code",
   "execution_count": 4,
   "metadata": {},
   "outputs": [
    {
     "name": "stdout",
     "output_type": "stream",
     "text": [
      "  1 ↓\n",
      "The game ended at step 1\n"
     ]
    }
   ],
   "source": [
    "env = FrozenLake('human')\n",
    "env.reset()\n",
    "\n",
    "for i in range(50):\n",
    "    action = env.action_space.sample()\n",
    "    print('{:3} {}'.format(i+1, action_to_symbol(action)))\n",
    "    obs, _ , terminated, truncated, _ = env.step(action)\n",
    "    if terminated or truncated:\n",
    "        print('The game ended at step {}'.format(i+1))\n",
    "        break\n",
    "\n",
    "env.close()"
   ]
  },
  {
   "attachments": {},
   "cell_type": "markdown",
   "metadata": {},
   "source": [
    "Function to run the game based on a policy"
   ]
  },
  {
   "cell_type": "code",
   "execution_count": 5,
   "metadata": {},
   "outputs": [],
   "source": [
    "def try_game(env, policy):\n",
    "\n",
    "    s, _ = env.reset()\n",
    "\n",
    "    for i in range(50):\n",
    "        action = policy[s]\n",
    "        print('{:3} {}'.format(i+1, action_to_symbol(action)))\n",
    "        s, _ , terminated, *_ = env.step(action)\n",
    "        if terminated:\n",
    "            print('The game ended at step {}'.format(i + 1))\n",
    "            break\n",
    "    env.close()"
   ]
  },
  {
   "attachments": {},
   "cell_type": "markdown",
   "metadata": {},
   "source": [
    "# IMPLEMENTATION"
   ]
  },
  {
   "attachments": {},
   "cell_type": "markdown",
   "metadata": {},
   "source": [
    "### Q-learning MDP"
   ]
  },
  {
   "attachments": {},
   "cell_type": "markdown",
   "metadata": {},
   "source": [
    "Default policy to choose actions while training"
   ]
  },
  {
   "cell_type": "code",
   "execution_count": 6,
   "metadata": {},
   "outputs": [],
   "source": [
    "def choose_action_MDP(values, epsilon):\n",
    "    if random.random() < epsilon:\n",
    "        # exploration\n",
    "        return random.choice(range(len(values)))\n",
    "    else:\n",
    "        # explotation\n",
    "        v = np.argwhere(values == np.amax(values)).flatten()\n",
    "        if len(v) > 0:\n",
    "            return random.choice(v)\n",
    "        else:\n",
    "            return random.choice(range(len(values)))"
   ]
  },
  {
   "attachments": {},
   "cell_type": "markdown",
   "metadata": {},
   "source": [
    "Algorithm for approximating the Q-values"
   ]
  },
  {
   "cell_type": "code",
   "execution_count": 7,
   "metadata": {},
   "outputs": [],
   "source": [
    "def QMDP_learning(env, num_episodes=1000, num_steps=100, alpha=0.05, gamma=0.99, eps_max = 1, eps_min = 0.05, chunk_size=1000):\n",
    "\n",
    "    Q = np.zeros((env.Ns, env.Na))\n",
    "    best_score_total = num_steps\n",
    "    best_actions_total = []\n",
    "\n",
    "    best_score_chunk = num_steps\n",
    "    best_actions_chunk = []\n",
    "\n",
    "    epsilon = eps_max\n",
    "    eps_step = (eps_max - eps_min) / num_episodes\n",
    "\n",
    "    scores = []\n",
    "    step_time = []\n",
    "\n",
    "    print('        BestEver Best   Mean    % Solved  epsilon')\n",
    "\n",
    "    t0 = time.time_ns()\n",
    "    s0 = 0 # count steps\n",
    "\n",
    "    for episode in range(num_episodes):\n",
    "\n",
    "        score = 0\n",
    "        actions = []\n",
    "\n",
    "        s, _ = env.reset()\n",
    "\n",
    "        new_state = True\n",
    "\n",
    "        for step in range(num_steps):\n",
    "            s0 += 1\n",
    "            \n",
    "            a = choose_action_MDP(Q[s], epsilon if not new_state else 1)\n",
    "            new_state = False\n",
    "            new_s, reward, terminated, *_ = env.step(a)\n",
    "\n",
    "            score += reward       \n",
    "            actions.append(a) \n",
    "\n",
    "            Q[s][a] = Q[s][a] + alpha * (reward + gamma * np.max(Q[new_s]) - Q[s][a])\n",
    "\n",
    "            if terminated:\n",
    "                # store information\n",
    "                if new_s == env.goal_state:\n",
    "                    if step + 1 < best_score_chunk:\n",
    "                        best_score_chunk = step + 1\n",
    "                        best_actions_chunk = actions\n",
    "\n",
    "                        if step + 1 < best_score_total:\n",
    "                            best_score_total = step + 1\n",
    "                            best_actions_total = actions\n",
    "                break\n",
    "            s = new_s\n",
    "\n",
    "\n",
    "        scores.append(score)\n",
    "        epsilon -= eps_step if epsilon > eps_min else 0\n",
    "        \n",
    "        # print infomation\n",
    "        if episode % chunk_size == chunk_size-1:\n",
    "            \n",
    "            step_time.append(1e-6 * (time.time_ns()-t0) / s0)\n",
    "            t0 = time.time_ns()\n",
    "            s0 = 0\n",
    "\n",
    "            if episode < chunk_size:\n",
    "                to_analyze = scores\n",
    "            else:\n",
    "                to_analyze = scores[-chunk_size-1:-1]     \n",
    "            \n",
    "            found = sum(1 for i in to_analyze if i > -num_steps ) / len(to_analyze)\n",
    "            print('Chunk {:>3}: {:>3} | {:>3} | {:>7.2f} | {:>5.1f}% |  {:.4f}  '.format(episode // chunk_size + 1, best_score_total, best_score_chunk,\n",
    "                                                                                    np.mean(to_analyze), found * 100, epsilon), actions_to_string(best_actions_chunk))\n",
    "            \n",
    "            best_score_chunk = num_steps\n",
    "            best_actions_chunk = []\n",
    "\n",
    "    return Q, scores, step_time, best_actions_total"
   ]
  },
  {
   "attachments": {},
   "cell_type": "markdown",
   "metadata": {},
   "source": [
    "### Q-learning LMDP"
   ]
  },
  {
   "attachments": {},
   "cell_type": "markdown",
   "metadata": {},
   "source": [
    "Default policy to choose actions while training"
   ]
  },
  {
   "cell_type": "code",
   "execution_count": 9,
   "metadata": {},
   "outputs": [],
   "source": [
    "def choose_action_LMDP(Q):\n",
    "    if np.sum(Q) == 0:\n",
    "        Q = np.ones_like(Q)\n",
    "    p = Q / np.sum(Q)\n",
    "\n",
    "    return np.random.choice(len(p), 1, p=p)[0]"
   ]
  },
  {
   "attachments": {},
   "cell_type": "markdown",
   "metadata": {},
   "source": [
    "Algorithm for approximating the Q-values"
   ]
  },
  {
   "cell_type": "code",
   "execution_count": 10,
   "metadata": {},
   "outputs": [],
   "source": [
    "def QLMDP_learning(env, num_episodes=10000, num_steps=100, alpha=0.1, eta = 1, chunk_size=1000):\n",
    "\n",
    "    Q = np.ones((env.Ns, env.Na))\n",
    "    best_score_total = num_steps\n",
    "    best_actions_total = []\n",
    "\n",
    "    best_score_chunk = num_steps\n",
    "    best_actions_chunk = []\n",
    "\n",
    "    scores = []\n",
    "    step_time = []\n",
    "\n",
    "    print('        BestEver Best   Mean    % Solved')\n",
    "\n",
    "    t0 = time.time_ns()\n",
    "    s0 = 0 # count steps\n",
    "\n",
    "    for episode in range(num_episodes):\n",
    "        score = 0\n",
    "        actions = []\n",
    "\n",
    "        s, _ = env.reset()\n",
    "\n",
    "        for step in range(num_steps):\n",
    "            s0 += 1\n",
    "\n",
    "            a = choose_action_LMDP(Q[s])\n",
    "            new_s, reward, terminated, *_ = env.step(a)\n",
    "\n",
    "            score += reward       \n",
    "            actions.append(a)\n",
    "\n",
    "            Q[s][a] = (1 - alpha) * Q[s][a] + alpha / env.Na * np.exp(eta * reward) * np.sum(Q[new_s])\n",
    "\n",
    "            if terminated:\n",
    "                if new_s == env.goal_state:\n",
    "                    if step + 1 < best_score_chunk:\n",
    "                        best_score_chunk = step + 1\n",
    "                        best_actions_chunk = actions\n",
    "\n",
    "                        if step + 1 < best_score_total:\n",
    "                            best_score_total = step + 1\n",
    "                            best_actions_total = actions\n",
    "                break\n",
    "\n",
    "            s = new_s\n",
    "\n",
    "        scores.append(score)\n",
    "\n",
    "        if episode % chunk_size == chunk_size-1:\n",
    "\n",
    "            step_time.append(1e-6 * (time.time_ns()-t0) / s0)\n",
    "            t0 = time.time_ns()\n",
    "            s0 = 0\n",
    "\n",
    "            if episode < chunk_size:\n",
    "                to_analyze = scores\n",
    "            else:\n",
    "                to_analyze = scores[-chunk_size-1:-1]     \n",
    "            \n",
    "            found = sum(1 for i in to_analyze if i > -num_steps ) / len(to_analyze)\n",
    "            print('Chunk {:>3}: {:>3} | {:>3} | {:>7.2f} | {:>5.1f}%   '.format(episode // chunk_size + 1, best_score_total, best_score_chunk,\n",
    "                                                                                    np.mean(to_analyze), found * 100), actions_to_string(best_actions_chunk))\n",
    "            \n",
    "            best_score_chunk = num_steps\n",
    "            best_actions_chunk = []\n",
    "\n",
    "    return Q, scores, step_time, best_actions_total"
   ]
  },
  {
   "attachments": {},
   "cell_type": "markdown",
   "metadata": {},
   "source": [
    "### Z-learning LMDP"
   ]
  },
  {
   "attachments": {},
   "cell_type": "markdown",
   "metadata": {},
   "source": [
    "Function to compute the uncontrolled transition probability $P: S \\rightarrow \\Delta(S)$"
   ]
  },
  {
   "cell_type": "code",
   "execution_count": 11,
   "metadata": {},
   "outputs": [],
   "source": [
    "def compute_P(env):\n",
    "    P = np.zeros((env.Ns, env.Ns))\n",
    "    for s in env.states:\n",
    "        for a in env.actions:\n",
    "            s_ = env.get_deterministic_state(s, a)\n",
    "            if s_ != -1:\n",
    "                P[s, s_] = 1\n",
    "    \n",
    "    # normalize\n",
    "    for s in env.states:\n",
    "        if s not in env.terminal_states:\n",
    "            P[s] = P[s] / P[s].sum()\n",
    "    return P"
   ]
  },
  {
   "attachments": {},
   "cell_type": "markdown",
   "metadata": {},
   "source": [
    "Algorithm for approximating the Z-values, the default policy is the same one used for Q-learning for LMDPs"
   ]
  },
  {
   "cell_type": "code",
   "execution_count": 12,
   "metadata": {},
   "outputs": [],
   "source": [
    "def Z_learning(env, num_episodes=10000, num_steps=100, alpha=0.1, eta=1, chunk_size=1000):\n",
    "\n",
    "    P = compute_P(env)\n",
    "    Z = np.ones(env.Ns)\n",
    "\n",
    "    best_score_total = num_steps\n",
    "    best_actions_total = []\n",
    "\n",
    "    best_score_chunk = num_steps\n",
    "    best_actions_chunk = []\n",
    "\n",
    "    scores = []\n",
    "    step_time = []\n",
    "\n",
    "    print('        BestEver Best   Mean    % Solved')\n",
    "\n",
    "    t0 = time.time_ns()\n",
    "    s0 = 0 # count steps\n",
    "\n",
    "    for episode in range(num_episodes):\n",
    "\n",
    "        score = 0\n",
    "        actions = []\n",
    "\n",
    "        s, _ = env.reset()\n",
    "\n",
    "        for step in range(num_steps):\n",
    "            s0 += 1\n",
    "\n",
    "            new_s = choose_action_LMDP(P[s] * Z)\n",
    "            a, reward, terminated, *_ = env.step_no_actions(new_s)\n",
    "\n",
    "            score += reward       \n",
    "            actions.append(a) \n",
    "\n",
    "            Z[s] = (1 - alpha) * Z[s] + alpha * np.exp(eta * reward) * np.sum(Z * P[s])\n",
    "\n",
    "            if terminated:\n",
    "                if new_s == env.goal_state:\n",
    "                    if step + 1 < best_score_chunk:\n",
    "                        best_score_chunk = step + 1\n",
    "                        best_actions_chunk = actions\n",
    "\n",
    "                        if step + 1 < best_score_total:\n",
    "                            best_score_total = step + 1\n",
    "                            best_actions_total = actions\n",
    "\n",
    "                Z[new_s] = np.exp(eta * reward)\n",
    "                break\n",
    "                \n",
    "            s = new_s\n",
    "\n",
    "        scores.append(score)\n",
    "        \n",
    "        if episode % chunk_size == chunk_size-1:\n",
    "\n",
    "            step_time.append(1e-6 * (time.time_ns()-t0) / s0)\n",
    "            t0 = time.time_ns()\n",
    "            s0 = 0\n",
    "\n",
    "            if episode < chunk_size:\n",
    "                to_analyze = scores\n",
    "            else:\n",
    "                to_analyze = scores[-chunk_size-1:-1]     \n",
    "            \n",
    "            found = sum(1 for i in to_analyze if i > -num_steps ) / len(to_analyze)\n",
    "            print('Chunk {:>3}: {:>3} | {:>3} | {:>7.2f} | {:>5.1f}%   '.format(episode // chunk_size + 1, best_score_total, best_score_chunk,\n",
    "                                                                                    np.mean(to_analyze), found * 100), actions_to_string(best_actions_chunk))\n",
    "\n",
    "            best_score_chunk = num_steps\n",
    "            best_actions_chunk = []\n",
    "\n",
    "    return Z, scores, step_time, best_actions_total"
   ]
  },
  {
   "attachments": {},
   "cell_type": "markdown",
   "metadata": {},
   "source": [
    "Function to get which would be the action performed in a transition without actions (for policy representation)"
   ]
  },
  {
   "cell_type": "code",
   "execution_count": 13,
   "metadata": {},
   "outputs": [],
   "source": [
    "def get_action_states(env, s1, s2):\n",
    "    for a in env.actions:\n",
    "        s = env.get_deterministic_state(s1, a)\n",
    "        if s == s2:\n",
    "            return a\n",
    "    return None"
   ]
  },
  {
   "attachments": {},
   "cell_type": "markdown",
   "metadata": {},
   "source": [
    "# TRAINING"
   ]
  },
  {
   "cell_type": "code",
   "execution_count": 14,
   "metadata": {},
   "outputs": [],
   "source": [
    "num_episodes = 20000\n",
    "num_steps = 50\n",
    "\n",
    "env = FrozenLake()\n",
    "env_show = FrozenLake('human')"
   ]
  },
  {
   "attachments": {},
   "cell_type": "markdown",
   "metadata": {},
   "source": [
    "### Q-learning MDP"
   ]
  },
  {
   "cell_type": "code",
   "execution_count": 15,
   "metadata": {},
   "outputs": [
    {
     "name": "stdout",
     "output_type": "stream",
     "text": [
      "        BestEver Best   Mean    % Solved  epsilon\n",
      "Chunk   1:  12 |  12 | -105.46 |   0.1% |  0.9525   ← → ↓ ↓ ← ↓ → → ↓ ↓ ↓ →\n",
      "Chunk   2:  12 |  12 | -104.89 |   0.5% |  0.9050   ↑ → ↓ ↓ ↓ → ↓ ↑ ↓ ↓ ↓ →\n",
      "Chunk   3:  10 |  10 | -104.87 |   0.7% |  0.8575   → ↓ → → ↓ ↓ ← ↓ ↓ →\n",
      "Chunk   4:  10 |  14 | -104.54 |   1.2% |  0.8100   → ↓ ↓ ↓ → → ↑ → ↓ ← ← ↓ ↓ →\n",
      "Chunk   5:  10 |  10 | -102.81 |   3.1% |  0.7625   ← ↑ → ↓ ↓ ↓ → ↓ ↓ →\n",
      "Chunk   6:  10 |  11 | -101.85 |   3.7% |  0.7150   ↑ → → → ↓ ↓ ↓ ← ↓ ↓ →\n",
      "Chunk   7:   8 |   8 | -100.05 |   6.1% |  0.6675   → ↓ ↓ ↓ → ↓ ↓ →\n",
      "Chunk   8:   8 |   8 |  -97.64 |   8.6% |  0.6200   → ↓ ↓ ↓ → ↓ ↓ →\n",
      "Chunk   9:   8 |   8 |  -95.85 |  10.5% |  0.5725   → ↓ ↓ ↓ → ↓ ↓ →\n",
      "Chunk  10:   8 |   8 |  -92.75 |  13.5% |  0.5250   → ↓ ↓ ↓ → ↓ ↓ →\n",
      "Chunk  11:   8 |   8 |  -88.05 |  18.2% |  0.4775   → ↓ ↓ ↓ → ↓ ↓ →\n",
      "Chunk  12:   8 |   8 |  -83.86 |  22.5% |  0.4300   → ↓ ↓ ↓ → ↓ ↓ →\n",
      "Chunk  13:   8 |   8 |  -81.71 |  24.3% |  0.3825   → ↓ ↓ ↓ → ↓ ↓ →\n",
      "Chunk  14:   8 |   8 |  -73.32 |  33.0% |  0.3350   → ↓ ↓ ↓ → ↓ ↓ →\n",
      "Chunk  15:   8 |   8 |  -67.42 |  38.9% |  0.2875   → ↓ ↓ ↓ → ↓ ↓ →\n",
      "Chunk  16:   8 |   8 |  -62.64 |  43.6% |  0.2400   → ↓ ↓ ↓ → ↓ ↓ →\n",
      "Chunk  17:   8 |   8 |  -57.12 |  49.2% |  0.1925   → ↓ ↓ ↓ → ↓ ↓ →\n",
      "Chunk  18:   8 |   8 |  -52.04 |  53.9% |  0.1450   → ↓ ↓ ↓ → ↓ ↓ →\n",
      "Chunk  19:   8 |   8 |  -45.80 |  60.1% |  0.0975   → ↓ ↓ ↓ → ↓ ↓ →\n",
      "Chunk  20:   8 |   8 |  -38.16 |  67.8% |  0.0500   → ↓ ↓ ↓ → ↓ ↓ →\n"
     ]
    }
   ],
   "source": [
    "Q_MDP, scores_QMDP, times_QMDP, actions_QMDP = QMDP_learning(env, num_episodes=num_episodes, num_steps=num_steps, alpha=0.1)"
   ]
  },
  {
   "cell_type": "code",
   "execution_count": 16,
   "metadata": {},
   "outputs": [
    {
     "name": "stdout",
     "output_type": "stream",
     "text": [
      "  1 →\n",
      "  2 ↓\n",
      "  3 ↓\n",
      "  4 ↓\n",
      "  5 →\n",
      "  6 ↓\n",
      "  7 ↓\n",
      "  8 →\n",
      "The game ended at step 8\n"
     ]
    }
   ],
   "source": [
    "# compute policy and try game\n",
    "policy_QMDP = np.argmax(Q_MDP, axis=1)\n",
    "try_game(env_show, policy_QMDP)"
   ]
  },
  {
   "cell_type": "code",
   "execution_count": 17,
   "metadata": {},
   "outputs": [
    {
     "name": "stdout",
     "output_type": "stream",
     "text": [
      "\n",
      " →  ↓  →  ↓  o  ↓ \n",
      " o  ↓  →  ↓  →  ↓ \n",
      " →  ↓  o  ↓  ←  ↓ \n",
      " →  →  ↓  ←  →  ↓ \n",
      " ↓  o  ↓  o  o  ↓ \n",
      " →  →  →  x  ←  ← \n"
     ]
    }
   ],
   "source": [
    "print_policy(env, policy_QMDP)"
   ]
  },
  {
   "attachments": {},
   "cell_type": "markdown",
   "metadata": {},
   "source": [
    "### Q-learning LMDP"
   ]
  },
  {
   "cell_type": "code",
   "execution_count": 18,
   "metadata": {},
   "outputs": [
    {
     "name": "stdout",
     "output_type": "stream",
     "text": [
      "        BestEver Best   Mean    % Solved\n",
      "Chunk   1:   8 |   8 | -106.20 |   3.8%    → ↓ ↓ ↓ → ↓ ↓ →\n",
      "Chunk   2:   8 |   8 |  -77.00 |  33.6%    → ↓ ↓ ↓ → ↓ ↓ →\n",
      "Chunk   3:   8 |   8 |  -33.74 |  75.1%    → ↓ ↓ ↓ → ↓ ↓ →\n",
      "Chunk   4:   8 |   8 |  -18.28 |  90.0%    → ↓ ↓ ↓ → ↓ ↓ →\n",
      "Chunk   5:   8 |   8 |  -14.55 |  93.6%    → ↓ ↓ ↓ → ↓ ↓ →\n",
      "Chunk   6:   8 |   8 |  -13.08 |  94.9%    → ↓ ↓ ↓ → ↓ ↓ →\n",
      "Chunk   7:   8 |   8 |  -11.87 |  96.1%    → ↓ ↓ ↓ → ↓ ↓ →\n",
      "Chunk   8:   8 |   8 |  -10.77 |  97.2%    → ↓ ↓ ↓ → ↓ ↓ →\n",
      "Chunk   9:   8 |   8 |  -10.65 |  97.4%    → ↓ ↓ ↓ → ↓ ↓ →\n",
      "Chunk  10:   8 |   8 |  -10.01 |  98.0%    → ↓ ↓ ↓ → ↓ ↓ →\n",
      "Chunk  11:   8 |   8 |   -9.81 |  98.1%    → ↓ ↓ ↓ → ↓ ↓ →\n",
      "Chunk  12:   8 |   8 |   -9.19 |  98.7%    → ↓ ↓ ↓ → ↓ ↓ →\n",
      "Chunk  13:   8 |   8 |   -9.57 |  98.3%    → ↓ ↓ ↓ → ↓ ↓ →\n",
      "Chunk  14:   8 |   8 |   -9.23 |  98.7%    → ↓ ↓ ↓ → ↓ ↓ →\n",
      "Chunk  15:   8 |   8 |   -9.22 |  98.7%    → ↓ ↓ ↓ → ↓ ↓ →\n",
      "Chunk  16:   8 |   8 |   -8.83 |  99.1%    → ↓ ↓ ↓ → ↓ ↓ →\n",
      "Chunk  17:   8 |   8 |   -9.23 |  98.7%    → ↓ ↓ ↓ → ↓ ↓ →\n",
      "Chunk  18:   8 |   8 |   -9.44 |  98.4%    → ↓ ↓ ↓ → ↓ ↓ →\n",
      "Chunk  19:   8 |   8 |   -8.96 |  99.0%    → ↓ ↓ ↓ → ↓ ↓ →\n",
      "Chunk  20:   8 |   8 |   -8.70 |  99.2%    → ↓ ↓ ↓ → ↓ ↓ →\n"
     ]
    }
   ],
   "source": [
    "Q_LMDP, scores_QLMDP, times_QLMDP, actions_QLMDP = QLMDP_learning(env, num_episodes=num_episodes, num_steps=num_steps)"
   ]
  },
  {
   "cell_type": "code",
   "execution_count": 19,
   "metadata": {},
   "outputs": [
    {
     "name": "stdout",
     "output_type": "stream",
     "text": [
      "  1 →\n",
      "  2 ↓\n",
      "  3 ↓\n",
      "  4 ↓\n",
      "  5 →\n",
      "  6 ↓\n",
      "  7 ↓\n",
      "  8 →\n",
      "The game ended at step 8\n"
     ]
    }
   ],
   "source": [
    "# compute policy and try game\n",
    "policy_QLMDP = np.argmax(Q_LMDP, axis=1)\n",
    "try_game(env_show, policy_QLMDP)"
   ]
  },
  {
   "cell_type": "code",
   "execution_count": 20,
   "metadata": {},
   "outputs": [
    {
     "name": "stdout",
     "output_type": "stream",
     "text": [
      "\n",
      " →  ↓  ↓  ↓  o  → \n",
      " o  ↓  →  ↓  ↓  ↓ \n",
      " ↓  ↓  o  ↓  ↓  ↓ \n",
      " ↓  →  ↓  ←  →  ↓ \n",
      " ↓  o  ↓  o  o  ↓ \n",
      " →  →  →  x  ←  ← \n"
     ]
    }
   ],
   "source": [
    "print_policy(env, policy_QLMDP)"
   ]
  },
  {
   "attachments": {},
   "cell_type": "markdown",
   "metadata": {},
   "source": [
    "### Z-learning LMDP"
   ]
  },
  {
   "cell_type": "code",
   "execution_count": 21,
   "metadata": {},
   "outputs": [
    {
     "name": "stdout",
     "output_type": "stream",
     "text": [
      "        BestEver Best   Mean    % Solved\n",
      "Chunk   1:   8 |   8 |  -11.52 |  98.2%    → ↓ ↓ ↓ → ↓ ↓ →\n",
      "Chunk   2:   8 |   8 |   -8.16 | 100.0%    → ↓ ↓ ↓ → ↓ ↓ →\n",
      "Chunk   3:   8 |   8 |   -8.11 | 100.0%    → ↓ ↓ ↓ → ↓ ↓ →\n",
      "Chunk   4:   8 |   8 |   -8.11 | 100.0%    → ↓ ↓ ↓ → ↓ ↓ →\n",
      "Chunk   5:   8 |   8 |   -8.07 | 100.0%    → ↓ ↓ ↓ → ↓ ↓ →\n",
      "Chunk   6:   8 |   8 |   -8.12 | 100.0%    → ↓ ↓ ↓ → ↓ ↓ →\n",
      "Chunk   7:   8 |   8 |   -8.09 | 100.0%    → ↓ ↓ ↓ → ↓ ↓ →\n",
      "Chunk   8:   8 |   8 |   -8.03 | 100.0%    → ↓ ↓ ↓ → ↓ ↓ →\n",
      "Chunk   9:   8 |   8 |   -8.16 | 100.0%    → ↓ ↓ ↓ → ↓ ↓ →\n",
      "Chunk  10:   8 |   8 |   -8.12 | 100.0%    → ↓ ↓ ↓ → ↓ ↓ →\n",
      "Chunk  11:   8 |   8 |   -8.04 | 100.0%    → ↓ ↓ ↓ → ↓ ↓ →\n",
      "Chunk  12:   8 |   8 |   -8.06 | 100.0%    → ↓ ↓ ↓ → ↓ ↓ →\n",
      "Chunk  13:   8 |   8 |   -8.13 | 100.0%    → ↓ ↓ ↓ → ↓ ↓ →\n",
      "Chunk  14:   8 |   8 |   -8.11 | 100.0%    → ↓ ↓ ↓ → ↓ ↓ →\n",
      "Chunk  15:   8 |   8 |   -8.06 | 100.0%    → ↓ ↓ ↓ → ↓ ↓ →\n",
      "Chunk  16:   8 |   8 |   -8.05 | 100.0%    → ↓ ↓ ↓ → ↓ ↓ →\n",
      "Chunk  17:   8 |   8 |   -8.06 | 100.0%    → ↓ ↓ ↓ → ↓ ↓ →\n",
      "Chunk  18:   8 |   8 |   -8.12 | 100.0%    → ↓ ↓ ↓ → ↓ ↓ →\n",
      "Chunk  19:   8 |   8 |   -8.10 | 100.0%    → ↓ ↓ ↓ → ↓ ↓ →\n",
      "Chunk  20:   8 |   8 |   -8.05 | 100.0%    → ↓ ↓ ↓ → ↓ ↓ →\n"
     ]
    }
   ],
   "source": [
    "Z_LMDP, scores_ZLMDP, times_ZLMDP, actions_ZLMDP = Z_learning(env, num_episodes=num_episodes, num_steps=num_steps)"
   ]
  },
  {
   "cell_type": "code",
   "execution_count": 22,
   "metadata": {},
   "outputs": [
    {
     "name": "stdout",
     "output_type": "stream",
     "text": [
      "  1 →\n",
      "  2 ↓\n",
      "  3 ↓\n",
      "  4 ↓\n",
      "  5 →\n",
      "  6 ↓\n",
      "  7 ↓\n",
      "  8 →\n",
      "The game ended at step 8\n"
     ]
    }
   ],
   "source": [
    "# compute greedy policy and try a game following it\n",
    "P = compute_P(env)\n",
    "policy_next_states = np.argmax(Z_LMDP * P, axis=1)\n",
    "policy = [get_action_states(env, s, s_) for s, s_ in zip(env.states, policy_next_states)]\n",
    "try_game(env_show, policy)"
   ]
  },
  {
   "cell_type": "code",
   "execution_count": 23,
   "metadata": {},
   "outputs": [
    {
     "name": "stdout",
     "output_type": "stream",
     "text": [
      "\n",
      " →  ↓  ↓  ↓  o  → \n",
      " o  ↓  →  ↓  ↓  ↓ \n",
      " ↓  ↓  o  ↓  ↓  ↓ \n",
      " ↓  →  ↓  ←  →  ↓ \n",
      " ↓  o  ↓  o  o  ↓ \n",
      " →  →  →  x  ←  ← \n"
     ]
    }
   ],
   "source": [
    "print_policy(env, policy)"
   ]
  },
  {
   "attachments": {},
   "cell_type": "markdown",
   "metadata": {},
   "source": [
    "# COMPARISSON"
   ]
  },
  {
   "attachments": {},
   "cell_type": "markdown",
   "metadata": {},
   "source": [
    "### Plots"
   ]
  },
  {
   "cell_type": "code",
   "execution_count": 24,
   "metadata": {},
   "outputs": [],
   "source": [
    "compare_scores = {'Q MDP': scores_QMDP,  'Q LMDP': scores_QLMDP, 'Z LMDP': scores_ZLMDP}\n",
    "compare_times = {'Q MDP': times_QMDP,  'Q LMDP': times_QLMDP, 'Z LMDP': times_ZLMDP}"
   ]
  },
  {
   "cell_type": "code",
   "execution_count": 25,
   "metadata": {},
   "outputs": [],
   "source": [
    "def compare_mean_scores(data, chunk_size, N=10):\n",
    "\n",
    "    for name, data in data.items():\n",
    "        groups = [data[x:min(x+chunk_size, len(data)-1)] for x in range(0, len(data), chunk_size)]\n",
    "        averages = [np.mean(x) for x in groups]\n",
    "        smooth = np.convolve(averages, np.ones(N)/N, mode='valid')\n",
    "\n",
    "        plt.plot(np.arange(0, len(data) - (N-1)*chunk_size, chunk_size), smooth, label=name)\n",
    "\n",
    "    plt.title('Mean Scores over Training')\n",
    "    plt.suptitle('Frozen Lake')\n",
    "    plt.legend()\n",
    "    plt.ylabel('Scores')\n",
    "    plt.xlabel('Episodes')\n",
    "    plt.show()\n",
    "\n",
    "def compare_step_time(data):\n",
    "    f, ax = plt.subplots(figsize=(5, 6))\n",
    "    ax.boxplot(list(data.values()), labels=list(data.keys()), flierprops={'marker': 'o', 'markersize': 0.2})\n",
    "\n",
    "    plt.ylabel('Time in miliseconds')\n",
    "    plt.title('Step Time over Training')\n",
    "    plt.suptitle('Frozen Lake')\n",
    "    plt.show()"
   ]
  },
  {
   "cell_type": "code",
   "execution_count": 26,
   "metadata": {},
   "outputs": [
    {
     "data": {
      "image/png": "[encoded data removed]",
      "text/plain": [
       "<Figure size 640x480 with 1 Axes>"
      ]
     },
     "metadata": {},
     "output_type": "display_data"
    },
    {
     "data": {
      "image/png": "[encoded data removed]",
      "text/plain": [
       "<Figure size 500x600 with 1 Axes>"
      ]
     },
     "metadata": {},
     "output_type": "display_data"
    }
   ],
   "source": [
    "compare_mean_scores(compare_scores, 200, N=25)\n",
    "compare_step_time(compare_times)"
   ]
  }
 ],
 "metadata": {
  "kernelspec": {
   "display_name": "Python 3",
   "language": "python",
   "name": "python3"
  },
  "language_info": {
   "codemirror_mode": {
    "name": "ipython",
    "version": 3
   },
   "file_extension": ".py",
   "mimetype": "text/x-python",
   "name": "python",
   "nbconvert_exporter": "python",
   "pygments_lexer": "ipython3",
   "version": "3.10.9"
  },
  "orig_nbformat": 4
 },
 "nbformat": 4,
 "nbformat_minor": 2
}
