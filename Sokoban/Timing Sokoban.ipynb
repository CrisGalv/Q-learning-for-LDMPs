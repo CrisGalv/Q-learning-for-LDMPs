{
 "cells": [
  {
   "attachments": {},
   "cell_type": "markdown",
   "metadata": {},
   "source": [
    "# Sokoban"
   ]
  },
  {
   "attachments": {},
   "cell_type": "markdown",
   "metadata": {},
   "source": [
    "Import libraries, including Sokoban.py which has the class with the dynamics of the environment"
   ]
  },
  {
   "cell_type": "code",
   "execution_count": 21,
   "metadata": {},
   "outputs": [],
   "source": [
    "import random\n",
    "import matplotlib.pyplot as plt\n",
    "import numpy as np\n",
    "import time\n",
    "from Sokoban import Sokoban"
   ]
  },
  {
   "attachments": {},
   "cell_type": "markdown",
   "metadata": {},
   "source": [
    "## Environment"
   ]
  },
  {
   "attachments": {},
   "cell_type": "markdown",
   "metadata": {},
   "source": [
    "### Useful Functions"
   ]
  },
  {
   "cell_type": "code",
   "execution_count": 2,
   "metadata": {},
   "outputs": [],
   "source": [
    "def try_game(env, policy):\n",
    "\n",
    "    s, _ = env.reset()\n",
    "\n",
    "    for i in range(50):\n",
    "        action = policy[s]\n",
    "        s, _ , terminated, *_ = env.step(action)\n",
    "        if terminated:\n",
    "            print('The game ended at step {}'.format(i + 1))\n",
    "            break\n",
    "    env.close()"
   ]
  },
  {
   "attachments": {},
   "cell_type": "markdown",
   "metadata": {},
   "source": [
    "# Q-learning MDP"
   ]
  },
  {
   "cell_type": "code",
   "execution_count": 40,
   "metadata": {},
   "outputs": [],
   "source": [
    "def choose_action_MDP(values, epsilon):\n",
    "    if random.random() < epsilon:\n",
    "        # exploration\n",
    "        return random.choice(range(len(values)))\n",
    "    else:\n",
    "        # explotation\n",
    "        v = np.argwhere(values == np.amax(values)).flatten()\n",
    "        if len(v) > 0:\n",
    "            return random.choice(v)\n",
    "        else:\n",
    "            return random.choice(range(len(values)))"
   ]
  },
  {
   "cell_type": "code",
   "execution_count": 41,
   "metadata": {},
   "outputs": [],
   "source": [
    "def QMDP_learning(env, num_episodes=1000, num_steps=100, alpha=0.05, gamma=0.99, eps_max = 1, eps_min = 0.05, chunk_size=1000):\n",
    "    \n",
    "    timings = []\n",
    "    timings.append((time.time_ns(), 'start'))\n",
    "\n",
    "    Q = np.zeros((20, 20, 20, env.Na))\n",
    "\n",
    "    epsilon = eps_max\n",
    "    eps_step = (eps_max - eps_min) / num_episodes\n",
    "\n",
    "    scores = []\n",
    "\n",
    "    print('               Mean   epsilon')\n",
    "\n",
    "    for episode in range(num_episodes):\n",
    "        score = 0\n",
    "\n",
    "        s, _ = env.reset()\n",
    "        al, b1, b2 = s\n",
    "\n",
    "        new_state = True\n",
    "\n",
    "        timings.append((time.time_ns(), 'episode overhead'))\n",
    "\n",
    "        for step in range(num_steps):\n",
    "            \n",
    "            a = choose_action_MDP(Q[al, b1, b2], epsilon if not new_state else 1)\n",
    "            timings.append((time.time_ns(), 'action selection'))\n",
    "\n",
    "            new_state = False\n",
    "            new_s, reward, terminated, *_ = env.step(a)\n",
    "            al_, b1_, b2_ = new_s\n",
    "            timings.append((time.time_ns(), 'step performance'))\n",
    "\n",
    "            score += reward\n",
    "            timings.append((time.time_ns(), 'score update'))\n",
    "\n",
    "            Q[al, b1, b2, a] = Q[al, b1, b2, a] + alpha * (reward + gamma * np.max(Q[al_, b1_, b2_]) - Q[al, b1, b2, a])\n",
    "            timings.append((time.time_ns(), 'update rule'))\n",
    "            \n",
    "            if terminated:\n",
    "                break\n",
    "            \n",
    "            al, b1, b2 = al_, b1_, b2_\n",
    "            timings.append((time.time_ns(), 'termination checking'))\n",
    "\n",
    "\n",
    "        scores.append(score)\n",
    "        timings.append((time.time_ns(), 'score update'))\n",
    "\n",
    "        epsilon -= eps_step if epsilon > eps_min else 0\n",
    "        timings.append((time.time_ns(), 'epsilon update'))\n",
    "        \n",
    "        if episode % chunk_size == chunk_size-1:\n",
    "\n",
    "            if episode < chunk_size:\n",
    "                to_analyze = scores\n",
    "            else:\n",
    "                to_analyze = scores[-chunk_size-1:-1]    \n",
    "            \n",
    "            print('Chunk {:>3}:  {:>7.2f} | {:.4f}  '.format(episode // chunk_size + 1, np.mean(to_analyze), epsilon))\n",
    "            timings.append((time.time_ns(), 'print info'))\n",
    "\n",
    "    return Q, scores, timings"
   ]
  },
  {
   "cell_type": "code",
   "execution_count": 42,
   "metadata": {},
   "outputs": [
    {
     "name": "stdout",
     "output_type": "stream",
     "text": [
      "               Mean   epsilon\n",
      "Chunk   1:  -459.20 | 0.9050  \n",
      "Chunk   2:  -443.34 | 0.8100  \n",
      "Chunk   3:  -400.30 | 0.7150  \n",
      "Chunk   4:  -343.31 | 0.6200  \n",
      "Chunk   5:  -293.66 | 0.5250  \n",
      "Chunk   6:  -224.26 | 0.4300  \n",
      "Chunk   7:  -171.38 | 0.3350  \n",
      "Chunk   8:  -121.32 | 0.2400  \n",
      "Chunk   9:   -90.57 | 0.1450  \n",
      "Chunk  10:   -49.13 | 0.0500  \n"
     ]
    }
   ],
   "source": [
    "env = Sokoban(level=2)\n",
    "Q_MDP2, scores_QMDP2, time_QMDP2 = QMDP_learning(env, num_episodes=10000, num_steps=100, alpha=0.1)"
   ]
  },
  {
   "cell_type": "code",
   "execution_count": 43,
   "metadata": {},
   "outputs": [],
   "source": [
    "timings_QMDP = {}\n",
    "for i in range(1, len(time_QMDP2)):\n",
    "    cat = time_QMDP2[i][1]\n",
    "    tim = time_QMDP2[i][0] - time_QMDP2[i-1][0]\n",
    "    if cat not in timings_QMDP:\n",
    "        timings_QMDP[cat] = tim\n",
    "    else:\n",
    "        timings_QMDP[cat] += tim"
   ]
  },
  {
   "cell_type": "code",
   "execution_count": 44,
   "metadata": {},
   "outputs": [
    {
     "data": {
      "text/plain": [
       "{'episode overhead': 41034100,\n",
       " 'action selection': 4511823500,\n",
       " 'step performance': 26675182200,\n",
       " 'score update': 220385000,\n",
       " 'update rule': 4032136800,\n",
       " 'termination checking': 129164200,\n",
       " 'epsilon update': 12321600,\n",
       " 'print info': 5084200}"
      ]
     },
     "execution_count": 44,
     "metadata": {},
     "output_type": "execute_result"
    }
   ],
   "source": [
    "timings_QMDP"
   ]
  },
  {
   "attachments": {},
   "cell_type": "markdown",
   "metadata": {},
   "source": [
    "## Q-learning LMDP"
   ]
  },
  {
   "cell_type": "code",
   "execution_count": 45,
   "metadata": {},
   "outputs": [],
   "source": [
    "def choose_action_LMDP(Q):\n",
    "    if np.sum(Q) == 0:\n",
    "        Q = np.ones_like(Q)\n",
    "    p = Q / np.sum(Q)\n",
    "\n",
    "    return np.random.choice(len(p), 1, p=p)[0]"
   ]
  },
  {
   "cell_type": "code",
   "execution_count": 46,
   "metadata": {},
   "outputs": [],
   "source": [
    "def QLMDP_learning(env, num_episodes=10000, num_steps=100, alpha=0.1, eta = 1, chunk_size=1000):\n",
    "        \n",
    "    timings = []\n",
    "    timings.append((time.time_ns(), 'start'))\n",
    "    \n",
    "    Q = np.ones((20, 20, 20, env.Na))\n",
    "\n",
    "    scores = []\n",
    "\n",
    "    print('           Mean')\n",
    "\n",
    "    for episode in range(num_episodes):\n",
    "\n",
    "        score = 0\n",
    "\n",
    "        s, _ = env.reset()\n",
    "        al, b1, b2 = s\n",
    "\n",
    "        timings.append((time.time_ns(), 'episode overhead'))\n",
    "\n",
    "        for step in range(num_steps):\n",
    "            \n",
    "            a = choose_action_LMDP(Q[al, b1, b2])\n",
    "            timings.append((time.time_ns(), 'action selection'))\n",
    "\n",
    "            new_s, reward, terminated, *_ = env.step(a)\n",
    "            al_, b1_, b2_ = new_s\n",
    "            timings.append((time.time_ns(), 'step performance'))\n",
    "\n",
    "            score += reward\n",
    "            timings.append((time.time_ns(), 'score update'))\n",
    "\n",
    "            Q[al, b1, b2, a] = (1 - alpha) * Q[al, b1, b2, a] + alpha / env.Na * np.exp(eta * reward) * np.sum(Q[al_, b1_, b2_])\n",
    "            timings.append((time.time_ns(), 'update rule'))\n",
    "\n",
    "            if terminated:\n",
    "                break\n",
    "            \n",
    "            al, b1, b2 = al_, b1_, b2_\n",
    "            timings.append((time.time_ns(), 'termination checking'))\n",
    "\n",
    "            \n",
    "        scores.append(score)\n",
    "        timings.append((time.time_ns(), 'score update'))\n",
    "\n",
    "        if episode % chunk_size == chunk_size-1:\n",
    "\n",
    "            if episode < chunk_size:\n",
    "                to_analyze = scores\n",
    "            else:\n",
    "                to_analyze = scores[-chunk_size-1:-1]    \n",
    "\n",
    "            print('Chunk {:>3}: {:>7.2f}'.format(episode // chunk_size + 1, np.mean(to_analyze)))\n",
    "            timings.append((time.time_ns(), 'print info'))\n",
    "\n",
    "    return Q, scores, timings"
   ]
  },
  {
   "cell_type": "code",
   "execution_count": 47,
   "metadata": {},
   "outputs": [
    {
     "name": "stdout",
     "output_type": "stream",
     "text": [
      "           Mean\n",
      "Chunk   1: -392.71\n",
      "Chunk   2: -364.92\n",
      "Chunk   3: -318.69\n",
      "Chunk   4: -204.44\n",
      "Chunk   5: -118.71\n",
      "Chunk   6:  -79.24\n",
      "Chunk   7:  -55.71\n",
      "Chunk   8:  -53.39\n",
      "Chunk   9:  -42.48\n",
      "Chunk  10:  -40.90\n"
     ]
    }
   ],
   "source": [
    "env = Sokoban(level=2)\n",
    "Q_LMDP2, scores_QLMDP2, time_QLMDP2 = QLMDP_learning(env, num_episodes=10000, num_steps=100, alpha=0.1)"
   ]
  },
  {
   "cell_type": "code",
   "execution_count": 48,
   "metadata": {},
   "outputs": [],
   "source": [
    "timings_QLMDP = {}\n",
    "for i in range(1, len(time_QLMDP2)):\n",
    "    cat = time_QLMDP2[i][1]\n",
    "    tim = time_QLMDP2[i][0] - time_QLMDP2[i-1][0]\n",
    "    if cat not in timings_QLMDP:\n",
    "        timings_QLMDP[cat] = tim\n",
    "    else:\n",
    "        timings_QLMDP[cat] += tim"
   ]
  },
  {
   "cell_type": "code",
   "execution_count": 49,
   "metadata": {},
   "outputs": [
    {
     "data": {
      "text/plain": [
       "{'episode overhead': 55534200,\n",
       " 'action selection': 16566856800,\n",
       " 'step performance': 21107522600,\n",
       " 'score update': 138972800,\n",
       " 'update rule': 4055331200,\n",
       " 'termination checking': 91812000,\n",
       " 'print info': 0}"
      ]
     },
     "execution_count": 49,
     "metadata": {},
     "output_type": "execute_result"
    }
   ],
   "source": [
    "timings_QLMDP"
   ]
  },
  {
   "attachments": {},
   "cell_type": "markdown",
   "metadata": {},
   "source": [
    "### Z-learning LMDP"
   ]
  },
  {
   "cell_type": "code",
   "execution_count": 50,
   "metadata": {},
   "outputs": [],
   "source": [
    "def state_compression(a, b1, b2):\n",
    "    sc = a * 20 + b1\n",
    "    sc = sc * 20 + b2\n",
    "    return sc\n",
    "\n",
    "def state_decompression(sc):\n",
    "    b2 = sc % 20\n",
    "    sc = sc // 20\n",
    "    b1 = sc % 20\n",
    "    a = sc // 20\n",
    "    return a, b1, b2"
   ]
  },
  {
   "cell_type": "code",
   "execution_count": 51,
   "metadata": {},
   "outputs": [],
   "source": [
    "def compute_P(env):\n",
    "    P = np.zeros((env.Ns, env.Ns))\n",
    "    for s in env.states:\n",
    "        for a in env.actions:\n",
    "            s_ = env.move(s, a)\n",
    "            P[state_compression(*s), state_compression(*s_)] = 1\n",
    "    \n",
    "    # normalize\n",
    "    for s in env.states:\n",
    "        P[state_compression(*s)] = P[state_compression(*s)] / P[state_compression(*s)].sum()\n",
    "    return P"
   ]
  },
  {
   "cell_type": "code",
   "execution_count": 52,
   "metadata": {},
   "outputs": [],
   "source": [
    "def compute_next_states(env, s):\n",
    "    new_states = []\n",
    "    for a in env.actions:\n",
    "        s_ = env.move(s, a)\n",
    "        new_states.append(state_compression(*s_))\n",
    "    P = {i: 1 / len(new_states) for i in new_states}\n",
    "    return P"
   ]
  },
  {
   "cell_type": "code",
   "execution_count": 53,
   "metadata": {},
   "outputs": [],
   "source": [
    "def Z_learning(env, num_episodes=10000, num_steps=100, alpha=0.1, eta=1, chunk_size=1000):\n",
    "    timings = []\n",
    "    timings.append((time.time_ns(), 'start'))\n",
    "\n",
    "    P = compute_P(env)\n",
    "    timings.append((time.time_ns(), 'computation of P'))\n",
    "\n",
    "    Z = np.ones(20**3)\n",
    "\n",
    "    scores = []\n",
    "\n",
    "    print('          Mean')\n",
    "\n",
    "    for episode in range(num_episodes):\n",
    "\n",
    "        score = 0\n",
    "        s, _ = env.reset()\n",
    "        timings.append((time.time_ns(), 'episode overhead'))\n",
    "\n",
    "        for step in range(num_steps):\n",
    "\n",
    "            sc = state_compression(*s)\n",
    "\n",
    "            ZP = P[sc] * Z\n",
    "            timings.append((time.time_ns(), 'matrix multiplication (ZP)'))\n",
    "\n",
    "            new_sc = choose_action_LMDP(ZP)\n",
    "            new_s = state_decompression(new_sc)\n",
    "            timings.append((time.time_ns(), 'action selection'))\n",
    "\n",
    "            a, reward, terminated, won, _ = env.step_no_actions(new_s)\n",
    "            timings.append((time.time_ns(), 'step performance'))\n",
    "\n",
    "            score += reward\n",
    "            timings.append((time.time_ns(), 'score update'))\n",
    "\n",
    "            Z[sc] = (1 - alpha) * Z[sc] + alpha * np.exp(eta * reward) * np.sum(ZP) \n",
    "            timings.append((time.time_ns(), 'update rule'))\n",
    "\n",
    "            if terminated:\n",
    "                Z[state_compression(*new_s)] = np.exp(eta * reward)\n",
    "                break\n",
    "\n",
    "            s = new_s\n",
    "            timings.append((time.time_ns(), 'termination checking'))\n",
    "\n",
    "        scores.append(score)\n",
    "        timings.append((time.time_ns(), 'score update'))\n",
    "        \n",
    "        if episode % chunk_size == chunk_size-1:\n",
    "\n",
    "            if episode < chunk_size:\n",
    "                to_analyze = scores\n",
    "            else:\n",
    "                to_analyze = scores[-chunk_size-1:-1]    \n",
    "            \n",
    "            print('Chunk {:>3}: {:>7.2f} '.format(episode // chunk_size + 1, np.mean(to_analyze)))\n",
    "            timings.append((time.time_ns(), 'print info'))\n",
    "\n",
    "    return Z, scores, timings"
   ]
  },
  {
   "cell_type": "code",
   "execution_count": 54,
   "metadata": {},
   "outputs": [
    {
     "name": "stdout",
     "output_type": "stream",
     "text": [
      "          Mean\n",
      "Chunk   1: -126.22 \n",
      "Chunk   2:  -28.28 \n",
      "Chunk   3:  -24.82 \n",
      "Chunk   4:  -24.17 \n",
      "Chunk   5:  -23.66 \n",
      "Chunk   6:  -22.61 \n",
      "Chunk   7:  -22.24 \n",
      "Chunk   8:  -22.48 \n",
      "Chunk   9:  -22.51 \n",
      "Chunk  10:  -22.19 \n"
     ]
    }
   ],
   "source": [
    "env = Sokoban(level=2)\n",
    "Z_LMDP2, scores_ZLMDP2, time_ZLMDP2, = Z_learning(env, num_episodes=10000, num_steps=100, alpha=0.1)"
   ]
  },
  {
   "cell_type": "code",
   "execution_count": 55,
   "metadata": {},
   "outputs": [],
   "source": [
    "timings_ZLMDP = {}\n",
    "for i in range(1, len(time_ZLMDP2)):\n",
    "    cat = time_ZLMDP2[i][1]\n",
    "    tim = time_ZLMDP2[i][0] - time_ZLMDP2[i-1][0]\n",
    "    if cat not in timings_ZLMDP:\n",
    "        timings_ZLMDP[cat] = tim\n",
    "    else:\n",
    "        timings_ZLMDP[cat] += tim"
   ]
  },
  {
   "cell_type": "code",
   "execution_count": 56,
   "metadata": {},
   "outputs": [
    {
     "data": {
      "text/plain": [
       "{'computation of P': 1981672400,\n",
       " 'episode overhead': 134538900,\n",
       " 'matrix multiplication (ZP)': 4034059400,\n",
       " 'action selection': 53954967500,\n",
       " 'step performance': 98141799100,\n",
       " 'score update': 278148900,\n",
       " 'update rule': 6659007300,\n",
       " 'termination checking': 136152100,\n",
       " 'print info': 2688900}"
      ]
     },
     "execution_count": 56,
     "metadata": {},
     "output_type": "execute_result"
    }
   ],
   "source": [
    "timings_ZLMDP"
   ]
  },
  {
   "attachments": {},
   "cell_type": "markdown",
   "metadata": {},
   "source": [
    "# PLOTS"
   ]
  },
  {
   "cell_type": "code",
   "execution_count": 57,
   "metadata": {},
   "outputs": [
    {
     "data": {
      "text/plain": [
       "{'episode overhead': [41034100, 55534200, 134538900],\n",
       " 'action selection': [4511823500, 16566856800, 53954967500],\n",
       " 'step performance': [26675182200, 21107522600, 98141799100],\n",
       " 'score update': [220385000, 138972800, 278148900],\n",
       " 'update rule': [4032136800, 4055331200, 6659007300],\n",
       " 'termination checking': [129164200, 91812000, 136152100],\n",
       " 'epsilon update': [12321600, 0, 0],\n",
       " 'print info': [5084200, 0, 2688900],\n",
       " 'computation of P': [0, 0, 1981672400],\n",
       " 'matrix multiplication (ZP)': [0, 0, 4034059400]}"
      ]
     },
     "execution_count": 57,
     "metadata": {},
     "output_type": "execute_result"
    }
   ],
   "source": [
    "total_timings = {}\n",
    "\n",
    "for type, tim in timings_QMDP.items():\n",
    "    if type not in total_timings:\n",
    "        total_timings[type] = [0, 0, 0]\n",
    "    total_timings[type][0] = tim\n",
    "\n",
    "for type, tim in timings_QLMDP.items():\n",
    "    if type not in total_timings:\n",
    "        total_timings[type] = [0, 0, 0]\n",
    "    total_timings[type][1] = tim\n",
    "\n",
    "for type, tim in timings_ZLMDP.items():\n",
    "    if type not in total_timings:\n",
    "        total_timings[type] = [0, 0, 0]\n",
    "    total_timings[type][2] = tim\n",
    "\n",
    "total_timings"
   ]
  },
  {
   "cell_type": "code",
   "execution_count": 63,
   "metadata": {},
   "outputs": [],
   "source": [
    "new_order = ['step performance', 'action selection', 'update rule', 'matrix multiplication (ZP)', 'computation of P']\n",
    "new_total_timings = {}\n",
    "\n",
    "for c in new_order:\n",
    "    new_total_timings[c] = total_timings[c]"
   ]
  },
  {
   "cell_type": "code",
   "execution_count": 66,
   "metadata": {},
   "outputs": [
    {
     "data": {
      "image/png": "[encoded data removed]",
      "text/plain": [
       "<Figure size 640x480 with 1 Axes>"
      ]
     },
     "metadata": {},
     "output_type": "display_data"
    }
   ],
   "source": [
    "methods = ('Q MDP', 'Q LMDP', 'Z LMDP')\n",
    "width = 0.5\n",
    "\n",
    "fig, ax = plt.subplots()\n",
    "bottom = np.zeros(3)\n",
    "\n",
    "for type, tim in new_total_timings.items():\n",
    "    p = ax.bar(methods, tim, width, label=type, bottom=bottom)\n",
    "    bottom += tim\n",
    "\n",
    "ax.set_title(\"Execution time by sections\")\n",
    "ax.legend(loc=\"upper left\")\n",
    "\n",
    "plt.show()"
   ]
  }
 ],
 "metadata": {
  "kernelspec": {
   "display_name": "Python 3",
   "language": "python",
   "name": "python3"
  },
  "language_info": {
   "codemirror_mode": {
    "name": "ipython",
    "version": 3
   },
   "file_extension": ".py",
   "mimetype": "text/x-python",
   "name": "python",
   "nbconvert_exporter": "python",
   "pygments_lexer": "ipython3",
   "version": "3.10.9"
  },
  "orig_nbformat": 4
 },
 "nbformat": 4,
 "nbformat_minor": 2
}
